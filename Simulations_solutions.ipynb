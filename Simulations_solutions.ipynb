{
 "cells": [
  {
   "cell_type": "code",
   "execution_count": 2,
   "metadata": {},
   "outputs": [],
   "source": [
    "# Let's do our imports:\n",
    "# matplotlib inline for notebook visualization display\n",
    "%matplotlib inline\n",
    "# numpy for matrix manipulation\n",
    "import numpy as np\n",
    "# pandas for dataframe manipulation\n",
    "import pandas as pd\n",
    "# curriculum example visualizations\n",
    "import viz \n",
    "# and setting our random seed\n",
    "np.random.seed(1349)"
   ]
  },
  {
   "cell_type": "markdown",
   "metadata": {},
   "source": [
    "### Question #1:\n",
    "## How likely is it that you roll doubles when rolling two dice?"
   ]
  },
  {
   "cell_type": "markdown",
   "metadata": {},
   "source": [
    "Mentally visualize the situation:\n",
    "\n",
    "Two dice, each have six sides.\n",
    "\n",
    "The probability is evenly distributed amongst six sides for each die\n",
    "\n",
    "In this way, you have an equal probability of getting any of the six sides of each die on a given roll.\n",
    "Therefore, rolling on a specific number is a 1/6 probability.\n",
    "\n",
    "There are 36 possible outcomes of dice rolls (6x6)\n",
    "\n",
    "And there are 6 possible ways to get doubles (11,22,33,44,55,66)\n",
    "\n",
    "6/36 = 1/6\n",
    "\n",
    "making for a probability of roughly 0.167"
   ]
  },
  {
   "cell_type": "markdown",
   "metadata": {},
   "source": [
    "<img src=\"http://www.stayorswitch.com/blog/wp-content/uploads/2014/06/Screen-Shot-2016-10-27-at-11.39.17-PM.png\">"
   ]
  },
  {
   "cell_type": "code",
   "execution_count": 52,
   "metadata": {},
   "outputs": [],
   "source": [
    "# Let's do it with a simulation in Python:\n",
    "\n",
    "# Represent our data's possible outcomes:\n",
    "outcomes = [1, 2, 3, 4, 5, 6]\n",
    "\n",
    "# Create the data!\n",
    "n_simulations = 1_000_000\n",
    "n_trials = 2"
   ]
  },
  {
   "cell_type": "code",
   "execution_count": 53,
   "metadata": {},
   "outputs": [],
   "source": [
    "# Let's get our rolls. We'll make a simulation of 1 million trails or simulated rolls for two dice\n",
    "\n",
    "# outcomes: possible sides the die could land on\n",
    "# n_simulations: the number of rolls of our dice to simulate\n",
    "# n_trials: the number of dice we are rolling in this instance."
   ]
  },
  {
   "cell_type": "code",
   "execution_count": 55,
   "metadata": {},
   "outputs": [],
   "source": [
    "rolls = np.random.choice(outcomes, size=(n_simulations, n_trials))"
   ]
  },
  {
   "cell_type": "code",
   "execution_count": 56,
   "metadata": {},
   "outputs": [
    {
     "data": {
      "text/plain": [
       "array([[3, 2],\n",
       "       [5, 3],\n",
       "       [4, 4],\n",
       "       ...,\n",
       "       [3, 4],\n",
       "       [6, 1],\n",
       "       [2, 1]])"
      ]
     },
     "execution_count": 56,
     "metadata": {},
     "output_type": "execute_result"
    }
   ],
   "source": [
    "# let's take a peek here\n",
    "rolls"
   ]
  },
  {
   "cell_type": "markdown",
   "metadata": {},
   "source": [
    "Using a sum isn't the best option here, since we are looking for two matching elements, or the number of unique elements."
   ]
  },
  {
   "cell_type": "code",
   "execution_count": 5,
   "metadata": {},
   "outputs": [],
   "source": [
    "# Let's see how numpy's unique() operates on a single instance of the array"
   ]
  },
  {
   "cell_type": "code",
   "execution_count": 57,
   "metadata": {},
   "outputs": [
    {
     "data": {
      "text/plain": [
       "array([2, 3])"
      ]
     },
     "execution_count": 57,
     "metadata": {},
     "output_type": "execute_result"
    }
   ],
   "source": [
    "np.unique(rolls[0])"
   ]
  },
  {
   "cell_type": "code",
   "execution_count": 58,
   "metadata": {},
   "outputs": [
    {
     "data": {
      "text/plain": [
       "array([4])"
      ]
     },
     "execution_count": 58,
     "metadata": {},
     "output_type": "execute_result"
    }
   ],
   "source": [
    "np.unique(rolls[2])"
   ]
  },
  {
   "cell_type": "code",
   "execution_count": 6,
   "metadata": {},
   "outputs": [],
   "source": [
    "# Great, so we can say that when len(np.unique()) == 1, we have a situation of doubles)\n",
    "\n",
    "# Let's make a list of every instance where this is the case in our array of rolls:"
   ]
  },
  {
   "cell_type": "code",
   "execution_count": 59,
   "metadata": {},
   "outputs": [],
   "source": [
    "# Let's use a list comprehension: \n",
    "# a list of the length of the uniques for each instance for the full number of simulations by index,\n",
    "# but only if the number of uniques is 1\n",
    "lst_doubles = [len(np.unique(rolls[n])) for n in range(0, n_simulations-1) if len(np.unique(rolls[n])) ==1]"
   ]
  },
  {
   "cell_type": "code",
   "execution_count": 60,
   "metadata": {},
   "outputs": [],
   "source": [
    "# The length of this is going to be the number of times we rolled doubles, and we can divide that by the total number of simulations:"
   ]
  },
  {
   "cell_type": "code",
   "execution_count": 62,
   "metadata": {},
   "outputs": [
    {
     "name": "stdout",
     "output_type": "stream",
     "text": [
      "The probability that we will flip at least 3 heads over 2 coins is 0.166136\n"
     ]
    }
   ],
   "source": [
    "calculated_prob = len(lst_doubles) / n_simulations\n",
    "print(f'The probability that we will flip at least 3 heads over {n_trials} coins is {calculated_prob}')"
   ]
  },
  {
   "cell_type": "code",
   "execution_count": 64,
   "metadata": {},
   "outputs": [],
   "source": [
    "# And that approximates to 0.167, which is what we were expecting!"
   ]
  },
  {
   "cell_type": "markdown",
   "metadata": {},
   "source": [
    "### Question #2:\n",
    "### If you flip 8 coins, what is the probability of getting exactly 3 heads? What is the probability of getting more than 3 heads?"
   ]
  },
  {
   "cell_type": "markdown",
   "metadata": {},
   "source": [
    "Mentally visualize the situation:\n",
    "Eight coins, each have two sides.\n",
    "The probability on a \"fair\" coin is distributed evenly among the two sides on a given flip\n",
    "The probability of getting H or T is equal, 1/2\n",
    "Order does not matter here; it does not matter *when* the heads come up in the mix\n",
    "Situation = {3H, 5T}"
   ]
  },
  {
   "cell_type": "markdown",
   "metadata": {},
   "source": [
    "<img src=\"https://i.ytimg.com/vi/qyd1bQlPW-8/hqdefault.jpg\">"
   ]
  },
  {
   "cell_type": "code",
   "execution_count": 11,
   "metadata": {},
   "outputs": [],
   "source": [
    "# number of ways that we could get three heads out of eight flips, divided by number of possible flip outcomes of eight flips (2 * 2 * 2 * 2 * 2 * 2 * 2 * 2)"
   ]
  },
  {
   "cell_type": "code",
   "execution_count": 12,
   "metadata": {},
   "outputs": [],
   "source": [
    "# 8C3/(2^8) = (8!/3!(8-3)!)/2^8 = 7/32 = ~0.219"
   ]
  },
  {
   "cell_type": "code",
   "execution_count": 13,
   "metadata": {},
   "outputs": [],
   "source": [
    "# Does that look a little confusing? Let's do it with a simulation in Python!"
   ]
  },
  {
   "cell_type": "code",
   "execution_count": 4,
   "metadata": {},
   "outputs": [],
   "source": [
    "# Let's make a million simulated flips of 8 trials, or independent coins.\n",
    "n_simulations = nrows = 1_000_000\n",
    "n_trials = ncols = 8\n",
    "heads = 1 \n",
    "tails = 0\n",
    "flips = np.random.choice([heads, tails], size=(n_simulations, n_trials))"
   ]
  },
  {
   "cell_type": "code",
   "execution_count": 5,
   "metadata": {},
   "outputs": [
    {
     "data": {
      "text/plain": [
       "array([[1, 1, 0, ..., 1, 0, 0],\n",
       "       [0, 0, 0, ..., 1, 0, 0],\n",
       "       [1, 1, 0, ..., 0, 0, 1],\n",
       "       ...,\n",
       "       [1, 0, 0, ..., 0, 1, 1],\n",
       "       [1, 0, 1, ..., 1, 0, 1],\n",
       "       [1, 1, 0, ..., 1, 1, 0]])"
      ]
     },
     "execution_count": 5,
     "metadata": {},
     "output_type": "execute_result"
    }
   ],
   "source": [
    "flips"
   ]
  },
  {
   "cell_type": "code",
   "execution_count": 6,
   "metadata": {},
   "outputs": [
    {
     "name": "stdout",
     "output_type": "stream",
     "text": [
      "The probability that we will flip exactly 3 heads over 8 coins is 0.21882\n"
     ]
    }
   ],
   "source": [
    "# Since we assigned heads as a value of 1, the sum of any given row of 8 trials will be 3 if there were three heads!\n",
    "numheads = flips.sum(axis=1)\n",
    "\n",
    "# And if we take the average number of times where that sum equaled 3:\n",
    "calculated_prob = (numheads == 3).mean()\n",
    "print(f'The probability that we will flip exactly 3 heads over {n_trials} coins is {calculated_prob}')"
   ]
  },
  {
   "cell_type": "code",
   "execution_count": 7,
   "metadata": {},
   "outputs": [],
   "source": [
    "# Ta Da! We did the thing! Congratulations!! We subverted math with programming! Computer!"
   ]
  },
  {
   "cell_type": "markdown",
   "metadata": {},
   "source": [
    "#### And for the second part? If the sum is equal or over to 3, we know that we rolled at least 3 heads, so:"
   ]
  },
  {
   "cell_type": "code",
   "execution_count": 9,
   "metadata": {},
   "outputs": [
    {
     "name": "stdout",
     "output_type": "stream",
     "text": [
      "The probability that we will flip at least 3 heads over 8 coins is 0.855982\n"
     ]
    }
   ],
   "source": [
    "calculated_prob = (numheads > 2).mean()\n",
    "print(f'The probability that we will flip at least 3 heads over {n_trials} coins is {calculated_prob}')"
   ]
  },
  {
   "cell_type": "markdown",
   "metadata": {},
   "source": [
    "### Question #3:\n",
    "## There are approximitely 3 web development cohorts for every 1 data science cohort at Codeup. Assuming that Codeup randomly selects an alumni to put on a billboard, what are the odds that the two billboards I drive past both have data science students on them?\n",
    "#### Mentally visualize the situation:\n",
    "3 Web Dev cohorts for every 1 Data Science cohort, which is a ratio of 3:1,\n",
    "\n",
    "or think of it this way:\n",
    "\n",
    "each sign is a biased coin flip, where we know we have a 1 out of 4 chance of getting a data science student"
   ]
  },
  {
   "cell_type": "code",
   "execution_count": 11,
   "metadata": {},
   "outputs": [],
   "source": [
    "# Let's make a million simulated drives where we pass by two independent billboards\n",
    "\n",
    "n_simulations = nrows = 1_000_000\n",
    "n_trials = ncols = 2\n",
    "data_sci = 1\n",
    "web_dev = 0\n",
    "commutes = np.random.choice([data_sci, web_dev], size=(n_simulations, n_trials), p=[0.25, 0.75])"
   ]
  },
  {
   "cell_type": "code",
   "execution_count": 12,
   "metadata": {},
   "outputs": [
    {
     "name": "stdout",
     "output_type": "stream",
     "text": [
      "The probability that there will still be data science students on 2 billboards is 0.062634\n"
     ]
    }
   ],
   "source": [
    "# We want to see a situation where both instances were a 1, which is a sum of 2, so we go about it the same as our previous simulations:\n",
    "calculated_prob = (commutes.sum(axis=1) == 2).mean()\n",
    "print(f'The probability that there will still be data science students on {n_trials} billboards is {calculated_prob}')"
   ]
  },
  {
   "cell_type": "code",
   "execution_count": 13,
   "metadata": {},
   "outputs": [
    {
     "data": {
      "text/plain": [
       "0.0625"
      ]
     },
     "execution_count": 13,
     "metadata": {},
     "output_type": "execute_result"
    }
   ],
   "source": [
    "(1/4) * (1/4)"
   ]
  },
  {
   "cell_type": "markdown",
   "metadata": {},
   "source": [
    "## Question 4:\n",
    "###  Codeup students buy, on average, 3 poptart packages (+- 1.5) a day from the snack vending machine. If on monday the machine is restocked with 17 poptart packages, how likely is it that I will be able to buy some poptarts on Friday afternoon?"
   ]
  },
  {
   "cell_type": "code",
   "execution_count": 15,
   "metadata": {},
   "outputs": [],
   "source": [
    "# average number of poptarts consumed:\n",
    "\n",
    "pop_avg = 3\n",
    "\n",
    "# deviation of potars: 1.5\n",
    "\n",
    "pop_std = 1.5\n",
    "n_trials = n_cols = 5\n",
    "n_simulations = n_rows = 1_000_000\n",
    "simulated_consumed_potars = np.random.normal(pop_avg, pop_std, size=(n_simulations, n_trials))"
   ]
  },
  {
   "cell_type": "code",
   "execution_count": 16,
   "metadata": {},
   "outputs": [
    {
     "data": {
      "text/plain": [
       "array([[-0.21407   ,  6.37625842,  2.0654548 ,  1.57119656,  4.29129215],\n",
       "       [ 3.47890053,  1.86250156,  3.71099695,  3.18657193,  3.59210198],\n",
       "       [-0.78278923,  1.46440324,  2.75146115,  1.00791192,  3.03889717],\n",
       "       ...,\n",
       "       [ 2.9320415 ,  0.6615184 ,  5.47651384,  2.10245505,  5.77567982],\n",
       "       [ 2.67986957,  2.24653527,  2.09497628,  1.36642653,  1.47537435],\n",
       "       [ 4.41742006,  2.2669592 ,  2.21905763,  2.09746598,  3.3080759 ]])"
      ]
     },
     "execution_count": 16,
     "metadata": {},
     "output_type": "execute_result"
    }
   ],
   "source": [
    "simulated_consumed_potars"
   ]
  },
  {
   "cell_type": "code",
   "execution_count": 19,
   "metadata": {},
   "outputs": [
    {
     "name": "stdout",
     "output_type": "stream",
     "text": [
      "The probability that there will still be poptarts in the vending machine after 5 days is 0.725162\n"
     ]
    }
   ],
   "source": [
    "calculated_prob = (simulated_consumed_potars.sum(axis=1) < 17).mean()\n",
    "print(f'The probability that there will still be poptarts in the vending machine after {n_trials} days is {calculated_prob}')"
   ]
  },
  {
   "cell_type": "markdown",
   "metadata": {},
   "source": [
    "## Question 5:\n",
    "\n",
    "### Compare Heights: Men have an average height of 178 cm and standard deviation of 8cm. \n",
    "\n",
    "Women have a mean of 170, sd = 6cm. \n",
    "\n",
    "If a man and woman are chosen at random, P(woman taller than man)?"
   ]
  },
  {
   "cell_type": "code",
   "execution_count": 20,
   "metadata": {},
   "outputs": [],
   "source": [
    "men_avg = 178\n",
    "men_std = 8\n",
    "wmn_avg = 170\n",
    "wmn_std = 6"
   ]
  },
  {
   "cell_type": "code",
   "execution_count": 21,
   "metadata": {},
   "outputs": [],
   "source": [
    "# Since we have an average and a standard deviation, let's use np.random.normal"
   ]
  },
  {
   "cell_type": "code",
   "execution_count": 22,
   "metadata": {},
   "outputs": [],
   "source": [
    "s_men = np.random.normal(men_avg, men_std, 1_000_000)"
   ]
  },
  {
   "cell_type": "code",
   "execution_count": 23,
   "metadata": {},
   "outputs": [
    {
     "data": {
      "text/plain": [
       "array([186.0451691 , 176.86380875, 177.9336578 , ..., 180.2852766 ,\n",
       "       185.88673255, 188.84939297])"
      ]
     },
     "execution_count": 23,
     "metadata": {},
     "output_type": "execute_result"
    }
   ],
   "source": [
    "s_men"
   ]
  },
  {
   "cell_type": "code",
   "execution_count": 24,
   "metadata": {},
   "outputs": [
    {
     "data": {
      "text/plain": [
       "(1000000,)"
      ]
     },
     "execution_count": 24,
     "metadata": {},
     "output_type": "execute_result"
    }
   ],
   "source": [
    "s_men.shape"
   ]
  },
  {
   "cell_type": "code",
   "execution_count": 25,
   "metadata": {},
   "outputs": [],
   "source": [
    "s_wmn = np.random.normal(wmn_avg, wmn_std, 1_000_000)"
   ]
  },
  {
   "cell_type": "code",
   "execution_count": 27,
   "metadata": {},
   "outputs": [
    {
     "name": "stdout",
     "output_type": "stream",
     "text": [
      "The probability that we will have a woman taller than a man presuming a normal distribution is 0.211362\n"
     ]
    }
   ],
   "source": [
    "calculated_prob = (s_wmn > s_men).mean()\n",
    "print(f'The probability that we will have a woman taller than a man presuming a normal distribution is {calculated_prob}')"
   ]
  },
  {
   "cell_type": "code",
   "execution_count": 29,
   "metadata": {},
   "outputs": [
    {
     "data": {
      "text/plain": [
       "0.041965"
      ]
     },
     "execution_count": 29,
     "metadata": {},
     "output_type": "execute_result"
    }
   ],
   "source": [
    "# So I'm pretty tall for a woman, where does this put me?\n",
    "(s_wmn > 180.34).mean()"
   ]
  },
  {
   "cell_type": "code",
   "execution_count": 31,
   "metadata": {},
   "outputs": [
    {
     "data": {
      "text/plain": [
       "0.0"
      ]
     },
     "execution_count": 31,
     "metadata": {},
     "output_type": "execute_result"
    }
   ],
   "source": [
    "# Yeah but what if its the 9ft tall vampire lady from the new resident evil game?\n",
    "(s_wmn > 274).mean()"
   ]
  },
  {
   "cell_type": "markdown",
   "metadata": {},
   "source": [
    "## Question 6:\n",
    "\n",
    "### When installing anaconda on a student's computer, there's a 1 in 250 chance that the download is corrupted and the installation fails. What are the odds that after having 50 students download anaconda, no one has an installation issue? 100 students?\n",
    "\n",
    "### What is the probability that we observe an installation issue within the first 150 students that download anaconda?\n",
    "\n",
    "### How likely is it that 450 students all download anaconda without an issue?"
   ]
  },
  {
   "cell_type": "code",
   "execution_count": 32,
   "metadata": {},
   "outputs": [],
   "source": [
    "n_simulations = nrows = 1_000_000\n",
    "\n",
    "# n_trials in this case is going to be the number of students installing Anaconda.\n",
    "\n",
    "n_trials = ncols = 50\n",
    "conda_failure = 1\n",
    "great_success = 0\n",
    "\n",
    "# The one in 250 is going to come up with our probability bias for the two outcomes.  \n",
    "# 1/250 = 0.004 probability that we will have an anaconda failure.\n",
    "\n",
    "attempted_class_installs = np.random.choice([conda_failure, great_success], size=(n_simulations, n_trials), p=[0.004, 0.996])"
   ]
  },
  {
   "cell_type": "code",
   "execution_count": 33,
   "metadata": {},
   "outputs": [
    {
     "name": "stdout",
     "output_type": "stream",
     "text": [
      "The probability that we will have one or more failure over 50 is 0.181629\n"
     ]
    }
   ],
   "source": [
    "calculated_prob = (attempted_class_installs.sum(axis=1) > 0).mean()\n",
    "print(f'The probability that we will have one or more failure over {n_trials} is {calculated_prob}')"
   ]
  },
  {
   "cell_type": "code",
   "execution_count": 34,
   "metadata": {},
   "outputs": [],
   "source": [
    "n_simulations = nrows = 1_000_000\n",
    "\n",
    "# n_trials in this case is going to be the number of students installing Anaconda.\n",
    "\n",
    "n_trials = ncols = 100\n",
    "conda_failure = 1\n",
    "great_success = 0\n",
    "\n",
    "# The one in 250 is going to come up with our probability bias for the two outcomes.  \n",
    "# 1/250 = 0.004 probability that we will have an anaconda failure.\n",
    "\n",
    "attempted_class_installs = np.random.choice([conda_failure, great_success], size=(n_simulations, n_trials), p=[0.004, 0.996])"
   ]
  },
  {
   "cell_type": "code",
   "execution_count": 35,
   "metadata": {},
   "outputs": [
    {
     "name": "stdout",
     "output_type": "stream",
     "text": [
      "The probability that we will have one or more failure over 100 is 0.330362\n"
     ]
    }
   ],
   "source": [
    "calculated_prob = (attempted_class_installs.sum(axis=1) > 0).mean()\n",
    "print(f'The probability that we will have one or more failure over {n_trials} is {calculated_prob}')"
   ]
  },
  {
   "cell_type": "code",
   "execution_count": null,
   "metadata": {},
   "outputs": [],
   "source": []
  },
  {
   "cell_type": "code",
   "execution_count": 36,
   "metadata": {},
   "outputs": [],
   "source": [
    "n_simulations = nrows = 1_000_000\n",
    "\n",
    "# n_trials in this case is going to be the number of students installing Anaconda.\n",
    "\n",
    "n_trials = ncols = 150\n",
    "conda_failure = 1\n",
    "great_success = 0\n",
    "\n",
    "# The one in 250 is going to come up with our probability bias for the two outcomes.  \n",
    "# 1/250 = 0.004 probability that we will have an anaconda failure.\n",
    "\n",
    "attempted_class_installs = np.random.choice([conda_failure, great_success], size=(n_simulations, n_trials), p=[0.004, 0.996])"
   ]
  },
  {
   "cell_type": "code",
   "execution_count": 37,
   "metadata": {},
   "outputs": [
    {
     "name": "stdout",
     "output_type": "stream",
     "text": [
      "The probability that we will have one or more failure over 150 is 0.451355\n"
     ]
    }
   ],
   "source": [
    "calculated_prob = (attempted_class_installs.sum(axis=1) > 0).mean()\n",
    "print(f'The probability that we will have one or more failure over {n_trials} is {calculated_prob}')"
   ]
  },
  {
   "cell_type": "code",
   "execution_count": 38,
   "metadata": {},
   "outputs": [],
   "source": [
    "n_simulations = nrows = 1_000_000\n",
    "\n",
    "# n_trials in this case is going to be the number of students installing Anaconda.\n",
    "\n",
    "n_trials = ncols = 450\n",
    "conda_failure = 1\n",
    "great_success = 0\n",
    "\n",
    "# The one in 250 is going to come up with our probability bias for the two outcomes.  \n",
    "# 1/250 = 0.004 probability that we will have an anaconda failure.\n",
    "\n",
    "attempted_class_installs = np.random.choice([conda_failure, great_success], size=(n_simulations, n_trials), p=[0.004, 0.996])"
   ]
  },
  {
   "cell_type": "code",
   "execution_count": 39,
   "metadata": {},
   "outputs": [
    {
     "name": "stdout",
     "output_type": "stream",
     "text": [
      "The probability that we will have one or more failure over 450 is 0.835447\n"
     ]
    }
   ],
   "source": [
    "calculated_prob = (attempted_class_installs.sum(axis=1) > 0).mean()\n",
    "print(f'The probability that we will have one or more failure over {n_trials} is {calculated_prob}')"
   ]
  },
  {
   "cell_type": "markdown",
   "metadata": {},
   "source": [
    "## Question 7:\n",
    "### There's a 70% chance on any given day that there will be at least one food truck at Travis Park. However, you haven't seen a food truck there in 3 days. How unlikely is this?\n",
    "\n",
    "### How likely is it that a food truck will show up sometime this week?"
   ]
  },
  {
   "cell_type": "code",
   "execution_count": 34,
   "metadata": {},
   "outputs": [],
   "source": [
    "# You havent been to Travis Park in like a year because we're in the middle of a pancetta and you're attending codeup from inside your home, so its 0% unlikely, congratulations."
   ]
  },
  {
   "cell_type": "code",
   "execution_count": 35,
   "metadata": {},
   "outputs": [],
   "source": [
    "# Let's pretend its regular times for the sake of doing some statistics, though.\n",
    "# We are still looking at these like independent events, so:\n",
    "# There either will be or will not be a food truck, with a probability of 0.7 in favor of there being a food truck.\n",
    "# 3 days of the week have passed, with two more left, assuming a regular business week."
   ]
  },
  {
   "cell_type": "code",
   "execution_count": 40,
   "metadata": {},
   "outputs": [],
   "source": [
    "n_simulations = nrows = 1_000_000\n",
    "\n",
    "# n_trials in this case is going to be the number of weekdays. Let's start with the three days you haven't seen a truck.\n",
    "\n",
    "n_trials = ncols = 3\n",
    "food_truck = 1\n",
    "no_truck = 0\n",
    "lunch_days = np.random.choice([food_truck, no_truck], size=(n_simulations, n_trials), p=[0.7, 0.3])"
   ]
  },
  {
   "cell_type": "code",
   "execution_count": 41,
   "metadata": {},
   "outputs": [
    {
     "name": "stdout",
     "output_type": "stream",
     "text": [
      "The probability that we will not have seen a food truck over the course of 3 days is 0.026845\n"
     ]
    }
   ],
   "source": [
    "calculated_prob = (lunch_days.sum(axis=1) == 0).mean()\n",
    "print(f'The probability that we will not have seen a food truck over the course of {n_trials} days is {calculated_prob}')"
   ]
  },
  {
   "cell_type": "code",
   "execution_count": 38,
   "metadata": {},
   "outputs": [],
   "source": [
    "# The presence of a food truck is not dependent on whether or not one showed up on the previous day, its independent.  Let's see wht its like for the last two days"
   ]
  },
  {
   "cell_type": "code",
   "execution_count": 42,
   "metadata": {},
   "outputs": [],
   "source": [
    "n_simulations = nrows = 1_000_000\n",
    "n_trials = ncols = 2\n",
    "food_truck = 1\n",
    "no_truck = 0"
   ]
  },
  {
   "cell_type": "code",
   "execution_count": 43,
   "metadata": {},
   "outputs": [],
   "source": [
    "lunch_days = np.random.choice([food_truck, no_truck], size=(n_simulations, n_trials), p=[0.7, 0.3])"
   ]
  },
  {
   "cell_type": "code",
   "execution_count": 44,
   "metadata": {},
   "outputs": [
    {
     "name": "stdout",
     "output_type": "stream",
     "text": [
      "The probability that we have seen a food truck over the course of 2 days is 0.909645\n"
     ]
    }
   ],
   "source": [
    "calculated_prob = (lunch_days.sum(axis=1) > 0).mean()\n",
    "print(f'The probability that we have seen a food truck over the course of {n_trials} days is {calculated_prob}')"
   ]
  },
  {
   "cell_type": "code",
   "execution_count": 41,
   "metadata": {},
   "outputs": [],
   "source": [
    "# calculated_prob = \n",
    "# print(f'The probability that we will have one or more food truck show up over {n_trials} days is {calculated_prob}')"
   ]
  },
  {
   "cell_type": "markdown",
   "metadata": {},
   "source": [
    "## Question 8:\n",
    "### If 23 people are in the same room, what are the odds that two of them share a birthday? What if it's 20 people? 40?"
   ]
  },
  {
   "cell_type": "code",
   "execution_count": 42,
   "metadata": {},
   "outputs": [],
   "source": [
    "# 365 days in a year (typically)\n",
    "# 23 people in the room\n",
    "# we want an instance where both are the same number!\n",
    "\n",
    "# Hey, this is exactly the same as our first problem with a few extra steps!"
   ]
  },
  {
   "cell_type": "code",
   "execution_count": 62,
   "metadata": {},
   "outputs": [],
   "source": [
    "# Represent our data's possible outcomes, the number of days in a year\n",
    "# People born on leap days don't actually exist, so we are going to exclude them here:\n",
    "\n",
    "outcomes = range(0, 365)\n",
    "# Create the data!\n",
    "n_simulations = 1_000_000\n",
    "n_trials = 23"
   ]
  },
  {
   "cell_type": "code",
   "execution_count": 63,
   "metadata": {},
   "outputs": [],
   "source": [
    "# Let's get our simulations. We'll make a simulation of 1 million classrooms of 23 students.\n",
    "#\n",
    "# outcomes: possible unique days of the year that a person could have.\n",
    "# n_simulations: the number of simulated classroom trials\n",
    "# n_trials: the number of student birthdays\n",
    "#"
   ]
  },
  {
   "cell_type": "code",
   "execution_count": 64,
   "metadata": {},
   "outputs": [],
   "source": [
    "classrooms = np.random.choice(outcomes, size=(n_simulations, n_trials))"
   ]
  },
  {
   "cell_type": "code",
   "execution_count": 65,
   "metadata": {},
   "outputs": [],
   "source": [
    "# let's take a peek at the length of an instance here"
   ]
  },
  {
   "cell_type": "code",
   "execution_count": 66,
   "metadata": {},
   "outputs": [
    {
     "data": {
      "text/plain": [
       "40"
      ]
     },
     "execution_count": 66,
     "metadata": {},
     "output_type": "execute_result"
    }
   ],
   "source": [
    "len(classrooms[0])"
   ]
  },
  {
   "cell_type": "markdown",
   "metadata": {},
   "source": [
    "##### Great, so we can say that when len(np.unique()) == 22 or less, we have a situation of doubles)\n",
    "\n",
    "#### Let's make a list of every instance where this is the case in our array of simulated classes:"
   ]
  },
  {
   "cell_type": "code",
   "execution_count": 59,
   "metadata": {},
   "outputs": [],
   "source": [
    "# Let's use a list comprehension: \n",
    "# a list of the length of the uniques for each instance for the full number of simulations by index, \n",
    "# but only if the number of uniques is less than the number of students in the class"
   ]
  },
  {
   "cell_type": "code",
   "execution_count": 69,
   "metadata": {},
   "outputs": [],
   "source": [
    "list_of_twinsies = [len(np.unique(classrooms[n])) for n in range(0, n_simulations-1) if len(np.unique(classrooms[n])) < 23]"
   ]
  },
  {
   "cell_type": "markdown",
   "metadata": {},
   "source": [
    "#### The length of this is going to be the number of times we had a class with shared birthdays, and we can divide that by the total number of simulations:"
   ]
  },
  {
   "cell_type": "code",
   "execution_count": 70,
   "metadata": {},
   "outputs": [
    {
     "name": "stdout",
     "output_type": "stream",
     "text": [
      "The probability that we will have one or more shared birthdays over 40 students is 0.891583\n"
     ]
    }
   ],
   "source": [
    "prop_twinsies = len(list_of_twinsies) / n_simulations\n",
    "print(f'The probability that we will have one or more shared birthdays over {n_trials} students is {prop_twinsies}')"
   ]
  },
  {
   "cell_type": "markdown",
   "metadata": {},
   "source": [
    "### 20?"
   ]
  },
  {
   "cell_type": "code",
   "execution_count": 42,
   "metadata": {},
   "outputs": [],
   "source": [
    "# 365 days in a year (typically)\n",
    "# 23 people in the room\n",
    "# we want an instance where both are the same number!\n",
    "\n",
    "# Hey, this is exactly the same as our first problem with a few extra steps!"
   ]
  },
  {
   "cell_type": "code",
   "execution_count": 62,
   "metadata": {},
   "outputs": [],
   "source": [
    "# Represent our data's possible outcomes, the number of days in a year\n",
    "# People born on leap days don't actually exist, so we are going to exclude them here:\n",
    "\n",
    "outcomes = range(0, 365)\n",
    "# Create the data!\n",
    "n_simulations = 1_000_000\n",
    "n_trials = 20"
   ]
  },
  {
   "cell_type": "code",
   "execution_count": 63,
   "metadata": {},
   "outputs": [],
   "source": [
    "# Let's get our simulations. We'll make a simulation of 1 million classrooms of 23 students.\n",
    "#\n",
    "# outcomes: possible unique days of the year that a person could have.\n",
    "# n_simulations: the number of simulated classroom trials\n",
    "# n_trials: the number of student birthdays\n",
    "#"
   ]
  },
  {
   "cell_type": "code",
   "execution_count": 64,
   "metadata": {},
   "outputs": [],
   "source": [
    "classrooms = np.random.choice(outcomes, size=(n_simulations, n_trials))"
   ]
  },
  {
   "cell_type": "markdown",
   "metadata": {},
   "source": [
    "##### Great, so we can say that when len(np.unique()) == 19 or less, we have a situation of doubles)\n",
    "\n",
    "#### Let's make a list of every instance where this is the case in our array of simulated classes:"
   ]
  },
  {
   "cell_type": "code",
   "execution_count": 59,
   "metadata": {},
   "outputs": [],
   "source": [
    "# Let's use a list comprehension: \n",
    "# a list of the length of the uniques for each instance for the full number of simulations by index, \n",
    "# but only if the number of uniques is less than the number of students in the class"
   ]
  },
  {
   "cell_type": "code",
   "execution_count": 69,
   "metadata": {},
   "outputs": [],
   "source": [
    "list_of_twinsies = [len(np.unique(classrooms[n])) for n in range(0, n_simulations-1) if len(np.unique(classrooms[n])) < 20]"
   ]
  },
  {
   "cell_type": "markdown",
   "metadata": {},
   "source": [
    "#### The length of this is going to be the number of times we had a class with shared birthdays, and we can divide that by the total number of simulations:"
   ]
  },
  {
   "cell_type": "code",
   "execution_count": 70,
   "metadata": {},
   "outputs": [
    {
     "name": "stdout",
     "output_type": "stream",
     "text": [
      "The probability that we will have one or more shared birthdays over 40 students is 0.891583\n"
     ]
    }
   ],
   "source": [
    "prop_twinsies = len(list_of_twinsies) / n_simulations\n",
    "print(f'The probability that we will have one or more shared birthdays over {n_trials} students is {prop_twinsies}')"
   ]
  },
  {
   "cell_type": "markdown",
   "metadata": {},
   "source": [
    "### 40?"
   ]
  },
  {
   "cell_type": "code",
   "execution_count": 42,
   "metadata": {},
   "outputs": [],
   "source": [
    "# 365 days in a year (typically)\n",
    "# 23 people in the room\n",
    "# we want an instance where both are the same number!\n",
    "\n",
    "# Hey, this is exactly the same as our first problem with a few extra steps!"
   ]
  },
  {
   "cell_type": "code",
   "execution_count": 62,
   "metadata": {},
   "outputs": [],
   "source": [
    "# Represent our data's possible outcomes, the number of days in a year\n",
    "# People born on leap days don't actually exist, so we are going to exclude them here:\n",
    "\n",
    "outcomes = range(0, 365)\n",
    "# Create the data!\n",
    "n_simulations = 1_000_000\n",
    "n_trials = 40"
   ]
  },
  {
   "cell_type": "code",
   "execution_count": 63,
   "metadata": {},
   "outputs": [],
   "source": [
    "# Let's get our simulations. We'll make a simulation of 1 million classrooms of 23 students.\n",
    "#\n",
    "# outcomes: possible unique days of the year that a person could have.\n",
    "# n_simulations: the number of simulated classroom trials\n",
    "# n_trials: the number of student birthdays\n",
    "#"
   ]
  },
  {
   "cell_type": "code",
   "execution_count": 64,
   "metadata": {},
   "outputs": [],
   "source": [
    "classrooms = np.random.choice(outcomes, size=(n_simulations, n_trials))"
   ]
  },
  {
   "cell_type": "code",
   "execution_count": 65,
   "metadata": {},
   "outputs": [],
   "source": [
    "# let's take a peek at the length of an instance here"
   ]
  },
  {
   "cell_type": "code",
   "execution_count": 66,
   "metadata": {},
   "outputs": [
    {
     "data": {
      "text/plain": [
       "40"
      ]
     },
     "execution_count": 66,
     "metadata": {},
     "output_type": "execute_result"
    }
   ],
   "source": [
    "len(classrooms[0])"
   ]
  },
  {
   "cell_type": "markdown",
   "metadata": {},
   "source": [
    "##### Great, so we can say that when len(np.unique()) == 39 or less, we have a situation of doubles)\n",
    "\n",
    "#### Let's make a list of every instance where this is the case in our array of simulated classes:"
   ]
  },
  {
   "cell_type": "code",
   "execution_count": 59,
   "metadata": {},
   "outputs": [],
   "source": [
    "# Let's use a list comprehension: \n",
    "# a list of the length of the uniques for each instance for the full number of simulations by index, \n",
    "# but only if the number of uniques is less than the number of students in the class"
   ]
  },
  {
   "cell_type": "code",
   "execution_count": 69,
   "metadata": {},
   "outputs": [],
   "source": [
    "list_of_twinsies = [len(np.unique(classrooms[n])) for n in range(0, n_simulations-1) if len(np.unique(classrooms[n])) < 40]"
   ]
  },
  {
   "cell_type": "markdown",
   "metadata": {},
   "source": [
    "#### The length of this is going to be the number of times we had a class with shared birthdays, and we can divide that by the total number of simulations:"
   ]
  },
  {
   "cell_type": "code",
   "execution_count": 70,
   "metadata": {},
   "outputs": [
    {
     "name": "stdout",
     "output_type": "stream",
     "text": [
      "The probability that we will have one or more shared birthdays over 40 students is 0.891583\n"
     ]
    }
   ],
   "source": [
    "prop_twinsies = len(list_of_twinsies) / n_simulations\n",
    "print(f'The probability that we will have one or more shared birthdays over {n_trials} students is {prop_twinsies}')"
   ]
  }
 ],
 "metadata": {
  "kernelspec": {
   "display_name": "Python 3",
   "language": "python",
   "name": "python3"
  },
  "language_info": {
   "codemirror_mode": {
    "name": "ipython",
    "version": 3
   },
   "file_extension": ".py",
   "mimetype": "text/x-python",
   "name": "python",
   "nbconvert_exporter": "python",
   "pygments_lexer": "ipython3",
   "version": "3.8.5"
  }
 },
 "nbformat": 4,
 "nbformat_minor": 4
}
