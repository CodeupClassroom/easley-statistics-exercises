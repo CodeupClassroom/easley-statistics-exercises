{
 "cells": [
  {
   "cell_type": "code",
   "execution_count": 1,
   "id": "sharing-sending",
   "metadata": {},
   "outputs": [],
   "source": [
    "from pydataset import data\n",
    "\n",
    "import pandas as pd\n",
    "import numpy as np\n",
    "import matplotlib.pyplot as plt\n",
    "\n",
    "from scipy import stats"
   ]
  },
  {
   "cell_type": "markdown",
   "id": "cultural-interim",
   "metadata": {},
   "source": [
    "# T-tests compare means of continuous values between groups"
   ]
  },
  {
   "cell_type": "code",
   "execution_count": 2,
   "id": "tight-active",
   "metadata": {},
   "outputs": [
    {
     "data": {
      "text/html": [
       "<div>\n",
       "<style scoped>\n",
       "    .dataframe tbody tr th:only-of-type {\n",
       "        vertical-align: middle;\n",
       "    }\n",
       "\n",
       "    .dataframe tbody tr th {\n",
       "        vertical-align: top;\n",
       "    }\n",
       "\n",
       "    .dataframe thead th {\n",
       "        text-align: right;\n",
       "    }\n",
       "</style>\n",
       "<table border=\"1\" class=\"dataframe\">\n",
       "  <thead>\n",
       "    <tr style=\"text-align: right;\">\n",
       "      <th></th>\n",
       "      <th>total_bill</th>\n",
       "      <th>tip</th>\n",
       "      <th>sex</th>\n",
       "      <th>smoker</th>\n",
       "      <th>day</th>\n",
       "      <th>time</th>\n",
       "      <th>size</th>\n",
       "    </tr>\n",
       "  </thead>\n",
       "  <tbody>\n",
       "    <tr>\n",
       "      <th>1</th>\n",
       "      <td>16.99</td>\n",
       "      <td>1.01</td>\n",
       "      <td>Female</td>\n",
       "      <td>No</td>\n",
       "      <td>Sun</td>\n",
       "      <td>Dinner</td>\n",
       "      <td>2</td>\n",
       "    </tr>\n",
       "    <tr>\n",
       "      <th>2</th>\n",
       "      <td>10.34</td>\n",
       "      <td>1.66</td>\n",
       "      <td>Male</td>\n",
       "      <td>No</td>\n",
       "      <td>Sun</td>\n",
       "      <td>Dinner</td>\n",
       "      <td>3</td>\n",
       "    </tr>\n",
       "    <tr>\n",
       "      <th>3</th>\n",
       "      <td>21.01</td>\n",
       "      <td>3.50</td>\n",
       "      <td>Male</td>\n",
       "      <td>No</td>\n",
       "      <td>Sun</td>\n",
       "      <td>Dinner</td>\n",
       "      <td>3</td>\n",
       "    </tr>\n",
       "    <tr>\n",
       "      <th>4</th>\n",
       "      <td>23.68</td>\n",
       "      <td>3.31</td>\n",
       "      <td>Male</td>\n",
       "      <td>No</td>\n",
       "      <td>Sun</td>\n",
       "      <td>Dinner</td>\n",
       "      <td>2</td>\n",
       "    </tr>\n",
       "    <tr>\n",
       "      <th>5</th>\n",
       "      <td>24.59</td>\n",
       "      <td>3.61</td>\n",
       "      <td>Female</td>\n",
       "      <td>No</td>\n",
       "      <td>Sun</td>\n",
       "      <td>Dinner</td>\n",
       "      <td>4</td>\n",
       "    </tr>\n",
       "  </tbody>\n",
       "</table>\n",
       "</div>"
      ],
      "text/plain": [
       "   total_bill   tip     sex smoker  day    time  size\n",
       "1       16.99  1.01  Female     No  Sun  Dinner     2\n",
       "2       10.34  1.66    Male     No  Sun  Dinner     3\n",
       "3       21.01  3.50    Male     No  Sun  Dinner     3\n",
       "4       23.68  3.31    Male     No  Sun  Dinner     2\n",
       "5       24.59  3.61  Female     No  Sun  Dinner     4"
      ]
     },
     "execution_count": 2,
     "metadata": {},
     "output_type": "execute_result"
    }
   ],
   "source": [
    "df = data(\"tips\")\n",
    "df.head()"
   ]
  },
  {
   "cell_type": "code",
   "execution_count": 3,
   "id": "effective-honolulu",
   "metadata": {},
   "outputs": [
    {
     "data": {
      "text/plain": [
       "<AxesSubplot:>"
      ]
     },
     "execution_count": 3,
     "metadata": {},
     "output_type": "execute_result"
    },
    {
     "data": {
      "image/png": "[encoded data removed]",
      "text/plain": [
       "<Figure size 432x288 with 1 Axes>"
      ]
     },
     "metadata": {
      "needs_background": "light"
     },
     "output_type": "display_data"
    }
   ],
   "source": [
    "saturday = df[df.day == \"Sat\"]\n",
    "saturday.tip.hist()"
   ]
  },
  {
   "cell_type": "code",
   "execution_count": 4,
   "id": "wrapped-owner",
   "metadata": {},
   "outputs": [
    {
     "data": {
      "text/plain": [
       "<AxesSubplot:>"
      ]
     },
     "execution_count": 4,
     "metadata": {},
     "output_type": "execute_result"
    },
    {
     "data": {
      "image/png": "[encoded data removed]",
      "text/plain": [
       "<Figure size 432x288 with 1 Axes>"
      ]
     },
     "metadata": {
      "needs_background": "light"
     },
     "output_type": "display_data"
    }
   ],
   "source": [
    "saturday = df[df.day == \"Sun\"]\n",
    "saturday.tip.hist()"
   ]
  },
  {
   "cell_type": "markdown",
   "id": "latest-devices",
   "metadata": {},
   "source": [
    "## Types of T-Tests\n",
    "\n",
    "### Samples \n",
    "- One Sample t-test compares the mean of a subgroup to the mean of a population \n",
    "- One sample example is Sunday tips vs. the rest of the week tips\n",
    "\n",
    "- The two sample t-test compares the means of two subgroups \n",
    "- A two-sample t-test would be comparing average tips between smokers vs. nonsmokers\n",
    "\n",
    "### Two Tails Checks for Any Difference between the means\n",
    "- A two-tailed t-test is measuring for any difference, regardless of direction (means of one group higher or lower)\n",
    "- The two-tailed t-test is checking if the means of two groups are different\n",
    "- If we have a two-tailed t-test, we can use the p value, as is and compare it to the alpha.\n",
    "- means are different (either one is higher or lower, but two tailed means we're not focused on direction)\n",
    "\n",
    "### One Tailed checks if one mean is greater than or less than the other\n",
    "- To test if the means are higher, we evaluate `(p/2) < a and t > 0` (to test if higher)\n",
    "- For checking if less-than, we do `(p/2) < a and  t < 0`\n",
    "\n"
   ]
  },
  {
   "cell_type": "markdown",
   "id": "encouraging-flush",
   "metadata": {},
   "source": [
    "## So do you use one tailed or two tailed?\n",
    "- It depends on how you're forming your alternative hypothesis\n",
    "- If your alternative hypothesis states \"there is a difference between these groups\" - two tailed\n",
    "- If your alternative hypothesis stats \"X group has higher/lower tips than Y\" - one tailed"
   ]
  },
  {
   "cell_type": "code",
   "execution_count": 5,
   "id": "hindu-national",
   "metadata": {},
   "outputs": [
    {
     "data": {
      "text/html": [
       "<div>\n",
       "<style scoped>\n",
       "    .dataframe tbody tr th:only-of-type {\n",
       "        vertical-align: middle;\n",
       "    }\n",
       "\n",
       "    .dataframe tbody tr th {\n",
       "        vertical-align: top;\n",
       "    }\n",
       "\n",
       "    .dataframe thead th {\n",
       "        text-align: right;\n",
       "    }\n",
       "</style>\n",
       "<table border=\"1\" class=\"dataframe\">\n",
       "  <thead>\n",
       "    <tr style=\"text-align: right;\">\n",
       "      <th></th>\n",
       "      <th>total_bill</th>\n",
       "      <th>tip</th>\n",
       "      <th>sex</th>\n",
       "      <th>smoker</th>\n",
       "      <th>day</th>\n",
       "      <th>time</th>\n",
       "      <th>size</th>\n",
       "    </tr>\n",
       "  </thead>\n",
       "  <tbody>\n",
       "    <tr>\n",
       "      <th>1</th>\n",
       "      <td>16.99</td>\n",
       "      <td>1.01</td>\n",
       "      <td>Female</td>\n",
       "      <td>No</td>\n",
       "      <td>Sun</td>\n",
       "      <td>Dinner</td>\n",
       "      <td>2</td>\n",
       "    </tr>\n",
       "    <tr>\n",
       "      <th>2</th>\n",
       "      <td>10.34</td>\n",
       "      <td>1.66</td>\n",
       "      <td>Male</td>\n",
       "      <td>No</td>\n",
       "      <td>Sun</td>\n",
       "      <td>Dinner</td>\n",
       "      <td>3</td>\n",
       "    </tr>\n",
       "    <tr>\n",
       "      <th>3</th>\n",
       "      <td>21.01</td>\n",
       "      <td>3.50</td>\n",
       "      <td>Male</td>\n",
       "      <td>No</td>\n",
       "      <td>Sun</td>\n",
       "      <td>Dinner</td>\n",
       "      <td>3</td>\n",
       "    </tr>\n",
       "    <tr>\n",
       "      <th>4</th>\n",
       "      <td>23.68</td>\n",
       "      <td>3.31</td>\n",
       "      <td>Male</td>\n",
       "      <td>No</td>\n",
       "      <td>Sun</td>\n",
       "      <td>Dinner</td>\n",
       "      <td>2</td>\n",
       "    </tr>\n",
       "    <tr>\n",
       "      <th>5</th>\n",
       "      <td>24.59</td>\n",
       "      <td>3.61</td>\n",
       "      <td>Female</td>\n",
       "      <td>No</td>\n",
       "      <td>Sun</td>\n",
       "      <td>Dinner</td>\n",
       "      <td>4</td>\n",
       "    </tr>\n",
       "  </tbody>\n",
       "</table>\n",
       "</div>"
      ],
      "text/plain": [
       "   total_bill   tip     sex smoker  day    time  size\n",
       "1       16.99  1.01  Female     No  Sun  Dinner     2\n",
       "2       10.34  1.66    Male     No  Sun  Dinner     3\n",
       "3       21.01  3.50    Male     No  Sun  Dinner     3\n",
       "4       23.68  3.31    Male     No  Sun  Dinner     2\n",
       "5       24.59  3.61  Female     No  Sun  Dinner     4"
      ]
     },
     "execution_count": 5,
     "metadata": {},
     "output_type": "execute_result"
    }
   ],
   "source": [
    "df.head()"
   ]
  },
  {
   "cell_type": "code",
   "execution_count": 6,
   "id": "fresh-delicious",
   "metadata": {},
   "outputs": [],
   "source": [
    "# Do smokers have a larger total_bill than non-smokers\n",
    "# Null hypothesis is that the total_bills are the same for both groups\n",
    "# We're comparing two subgroups, so we will be doing a 2 sample t-test\n",
    "# Since we're looking if one group is higher total_bill.mean than the other, one-tailed"
   ]
  },
  {
   "cell_type": "code",
   "execution_count": 7,
   "id": "related-avenue",
   "metadata": {},
   "outputs": [],
   "source": [
    "null_hypothesis = \"The means of total_bill are the same for smoker vs. nonsmoker\"\n",
    "alternative_hypothesis = \"Smokers have a higher total_bill than non smokers\"\n",
    "confidence_level = .95\n",
    "a = 1 - confidence_level # call your shot before you run your test"
   ]
  },
  {
   "cell_type": "code",
   "execution_count": 8,
   "id": "athletic-defeat",
   "metadata": {},
   "outputs": [],
   "source": [
    "# Let's compare the two populations visually\n",
    "smokers = df[df.smoker == \"Yes\"]\n",
    "non = df[df.smoker == \"No\"]"
   ]
  },
  {
   "cell_type": "code",
   "execution_count": 9,
   "id": "clinical-beverage",
   "metadata": {},
   "outputs": [
    {
     "data": {
      "text/plain": [
       "<AxesSubplot:>"
      ]
     },
     "execution_count": 9,
     "metadata": {},
     "output_type": "execute_result"
    },
    {
     "data": {
      "image/png": "[encoded data removed]",
      "text/plain": [
       "<Figure size 432x288 with 1 Axes>"
      ]
     },
     "metadata": {
      "needs_background": "light"
     },
     "output_type": "display_data"
    }
   ],
   "source": [
    "smokers.total_bill.hist()"
   ]
  },
  {
   "cell_type": "code",
   "execution_count": 10,
   "id": "talented-ordinance",
   "metadata": {},
   "outputs": [
    {
     "data": {
      "text/plain": [
       "<AxesSubplot:>"
      ]
     },
     "execution_count": 10,
     "metadata": {},
     "output_type": "execute_result"
    },
    {
     "data": {
      "image/png": "[encoded data removed]",
      "text/plain": [
       "<Figure size 432x288 with 1 Axes>"
      ]
     },
     "metadata": {
      "needs_background": "light"
     },
     "output_type": "display_data"
    }
   ],
   "source": [
    "non.total_bill.hist()"
   ]
  },
  {
   "cell_type": "code",
   "execution_count": 11,
   "id": "adapted-hundred",
   "metadata": {},
   "outputs": [
    {
     "data": {
      "text/plain": [
       "(1.3384363834700073, 0.1820103288430244)"
      ]
     },
     "execution_count": 11,
     "metadata": {},
     "output_type": "execute_result"
    }
   ],
   "source": [
    "# Two sample b/c we're comparing two-subgroups to eachother\n",
    "# Single tail, b/c we're checking if smokers total_bill is higher\n",
    "# .ttest_ind test of independence == 2 sample t-test function\n",
    "\n",
    "#\n",
    "t, p = stats.ttest_ind(smokers.total_bill, non.total_bill)\n",
    "t, p"
   ]
  },
  {
   "cell_type": "code",
   "execution_count": 12,
   "id": "alleged-connecticut",
   "metadata": {},
   "outputs": [
    {
     "name": "stdout",
     "output_type": "stream",
     "text": [
      "We fail to reject the null hypothesis\n"
     ]
    }
   ],
   "source": [
    "# p/2 along with t > 0 is how we compare means if higher\n",
    "if (p/2) < a and t > 0:\n",
    "    print(\"Reject the null hypothesis\")\n",
    "else:\n",
    "    print(\"We fail to reject the null hypothesis\")"
   ]
  },
  {
   "cell_type": "markdown",
   "id": "frozen-pledge",
   "metadata": {},
   "source": [
    "In English this means, we don't have sufficient evidence to support the claim that smokers have higher bills than non-smokers"
   ]
  },
  {
   "cell_type": "code",
   "execution_count": 13,
   "id": "noticed-forward",
   "metadata": {},
   "outputs": [],
   "source": [
    "# Let's take this same setup from above, and check if the means are different, regardless of direction\n",
    "null_hypothesis = \"The mean total_bill of nonsmokers and smokers is the same\"\n",
    "alternative_hypothesis = \"The means total bill of nonsmokers and smokers is different\"\n",
    "\n",
    "# Still two-sample (b/c there are 2 subgroups, and two-tailed, b/c we're looking for any difference"
   ]
  },
  {
   "cell_type": "code",
   "execution_count": 14,
   "id": "cubic-fashion",
   "metadata": {},
   "outputs": [
    {
     "data": {
      "text/plain": [
       "(1.3384363834700073, 0.1820103288430244)"
      ]
     },
     "execution_count": 14,
     "metadata": {},
     "output_type": "execute_result"
    }
   ],
   "source": [
    "t, p = stats.ttest_ind(smokers.total_bill, non.total_bill)\n",
    "t, p"
   ]
  },
  {
   "cell_type": "code",
   "execution_count": 15,
   "id": "graduate-grain",
   "metadata": {},
   "outputs": [
    {
     "name": "stdout",
     "output_type": "stream",
     "text": [
      "We fail to reject the null hypothesis\n"
     ]
    }
   ],
   "source": [
    "# We can use only p < a if we have a two-tailed test (b/c we're looking for mean(a) != mean(b))\n",
    "if p < a:\n",
    "    print(\"We reject the null hypothesis that they are the same\")\n",
    "    print(\"We move forward w/ the alternative hypothesis\")\n",
    "else:\n",
    "    print(\"We fail to reject the null hypothesis\")"
   ]
  },
  {
   "cell_type": "code",
   "execution_count": 16,
   "id": "suspended-pharmacy",
   "metadata": {},
   "outputs": [
    {
     "name": "stdout",
     "output_type": "stream",
     "text": [
      "In English, this means we don't have sufficient evidence to support the claim that smokers and nonsmokers have different bills\n"
     ]
    }
   ],
   "source": [
    "print(\"In English, this means we don't have sufficient evidence to support the claim that smokers and nonsmokers have different bills\")"
   ]
  },
  {
   "cell_type": "markdown",
   "id": "accomplished-reader",
   "metadata": {},
   "source": [
    "## The host notices us working on statistics in the booth all the time\n",
    "and they ask us:\n",
    "- given this data, are tips different on weekends vs. weekdays?\n",
    "- We'll have to make a weekend group and a weekday group (todo)\n",
    "- We're comparing two sub-groups, we have a 2-sample t-test\n",
    "- If we're not concerned about direction, but only IF the means are different, then we'll go w/ 2-tailed"
   ]
  },
  {
   "cell_type": "code",
   "execution_count": 17,
   "id": "gentle-extraction",
   "metadata": {},
   "outputs": [
    {
     "data": {
      "text/html": [
       "<div>\n",
       "<style scoped>\n",
       "    .dataframe tbody tr th:only-of-type {\n",
       "        vertical-align: middle;\n",
       "    }\n",
       "\n",
       "    .dataframe tbody tr th {\n",
       "        vertical-align: top;\n",
       "    }\n",
       "\n",
       "    .dataframe thead th {\n",
       "        text-align: right;\n",
       "    }\n",
       "</style>\n",
       "<table border=\"1\" class=\"dataframe\">\n",
       "  <thead>\n",
       "    <tr style=\"text-align: right;\">\n",
       "      <th></th>\n",
       "      <th>total_bill</th>\n",
       "      <th>tip</th>\n",
       "      <th>sex</th>\n",
       "      <th>smoker</th>\n",
       "      <th>day</th>\n",
       "      <th>time</th>\n",
       "      <th>size</th>\n",
       "    </tr>\n",
       "  </thead>\n",
       "  <tbody>\n",
       "    <tr>\n",
       "      <th>1</th>\n",
       "      <td>16.99</td>\n",
       "      <td>1.01</td>\n",
       "      <td>Female</td>\n",
       "      <td>No</td>\n",
       "      <td>Sun</td>\n",
       "      <td>Dinner</td>\n",
       "      <td>2</td>\n",
       "    </tr>\n",
       "    <tr>\n",
       "      <th>2</th>\n",
       "      <td>10.34</td>\n",
       "      <td>1.66</td>\n",
       "      <td>Male</td>\n",
       "      <td>No</td>\n",
       "      <td>Sun</td>\n",
       "      <td>Dinner</td>\n",
       "      <td>3</td>\n",
       "    </tr>\n",
       "    <tr>\n",
       "      <th>3</th>\n",
       "      <td>21.01</td>\n",
       "      <td>3.50</td>\n",
       "      <td>Male</td>\n",
       "      <td>No</td>\n",
       "      <td>Sun</td>\n",
       "      <td>Dinner</td>\n",
       "      <td>3</td>\n",
       "    </tr>\n",
       "    <tr>\n",
       "      <th>4</th>\n",
       "      <td>23.68</td>\n",
       "      <td>3.31</td>\n",
       "      <td>Male</td>\n",
       "      <td>No</td>\n",
       "      <td>Sun</td>\n",
       "      <td>Dinner</td>\n",
       "      <td>2</td>\n",
       "    </tr>\n",
       "    <tr>\n",
       "      <th>5</th>\n",
       "      <td>24.59</td>\n",
       "      <td>3.61</td>\n",
       "      <td>Female</td>\n",
       "      <td>No</td>\n",
       "      <td>Sun</td>\n",
       "      <td>Dinner</td>\n",
       "      <td>4</td>\n",
       "    </tr>\n",
       "  </tbody>\n",
       "</table>\n",
       "</div>"
      ],
      "text/plain": [
       "   total_bill   tip     sex smoker  day    time  size\n",
       "1       16.99  1.01  Female     No  Sun  Dinner     2\n",
       "2       10.34  1.66    Male     No  Sun  Dinner     3\n",
       "3       21.01  3.50    Male     No  Sun  Dinner     3\n",
       "4       23.68  3.31    Male     No  Sun  Dinner     2\n",
       "5       24.59  3.61  Female     No  Sun  Dinner     4"
      ]
     },
     "execution_count": 17,
     "metadata": {},
     "output_type": "execute_result"
    }
   ],
   "source": [
    "df.head()"
   ]
  },
  {
   "cell_type": "code",
   "execution_count": 18,
   "id": "indoor-signature",
   "metadata": {},
   "outputs": [],
   "source": [
    "def weekend(x):\n",
    "    if x == \"Sun\" or x == \"Sat\":\n",
    "        return 1\n",
    "    else:\n",
    "        return 0"
   ]
  },
  {
   "cell_type": "code",
   "execution_count": 19,
   "id": "southwest-insurance",
   "metadata": {},
   "outputs": [
    {
     "data": {
      "text/html": [
       "<div>\n",
       "<style scoped>\n",
       "    .dataframe tbody tr th:only-of-type {\n",
       "        vertical-align: middle;\n",
       "    }\n",
       "\n",
       "    .dataframe tbody tr th {\n",
       "        vertical-align: top;\n",
       "    }\n",
       "\n",
       "    .dataframe thead th {\n",
       "        text-align: right;\n",
       "    }\n",
       "</style>\n",
       "<table border=\"1\" class=\"dataframe\">\n",
       "  <thead>\n",
       "    <tr style=\"text-align: right;\">\n",
       "      <th></th>\n",
       "      <th>total_bill</th>\n",
       "      <th>tip</th>\n",
       "      <th>sex</th>\n",
       "      <th>smoker</th>\n",
       "      <th>day</th>\n",
       "      <th>time</th>\n",
       "      <th>size</th>\n",
       "      <th>is_weekend</th>\n",
       "    </tr>\n",
       "  </thead>\n",
       "  <tbody>\n",
       "    <tr>\n",
       "      <th>240</th>\n",
       "      <td>29.03</td>\n",
       "      <td>5.92</td>\n",
       "      <td>Male</td>\n",
       "      <td>No</td>\n",
       "      <td>Sat</td>\n",
       "      <td>Dinner</td>\n",
       "      <td>3</td>\n",
       "      <td>1</td>\n",
       "    </tr>\n",
       "    <tr>\n",
       "      <th>241</th>\n",
       "      <td>27.18</td>\n",
       "      <td>2.00</td>\n",
       "      <td>Female</td>\n",
       "      <td>Yes</td>\n",
       "      <td>Sat</td>\n",
       "      <td>Dinner</td>\n",
       "      <td>2</td>\n",
       "      <td>1</td>\n",
       "    </tr>\n",
       "    <tr>\n",
       "      <th>242</th>\n",
       "      <td>22.67</td>\n",
       "      <td>2.00</td>\n",
       "      <td>Male</td>\n",
       "      <td>Yes</td>\n",
       "      <td>Sat</td>\n",
       "      <td>Dinner</td>\n",
       "      <td>2</td>\n",
       "      <td>1</td>\n",
       "    </tr>\n",
       "    <tr>\n",
       "      <th>243</th>\n",
       "      <td>17.82</td>\n",
       "      <td>1.75</td>\n",
       "      <td>Male</td>\n",
       "      <td>No</td>\n",
       "      <td>Sat</td>\n",
       "      <td>Dinner</td>\n",
       "      <td>2</td>\n",
       "      <td>1</td>\n",
       "    </tr>\n",
       "    <tr>\n",
       "      <th>244</th>\n",
       "      <td>18.78</td>\n",
       "      <td>3.00</td>\n",
       "      <td>Female</td>\n",
       "      <td>No</td>\n",
       "      <td>Thur</td>\n",
       "      <td>Dinner</td>\n",
       "      <td>2</td>\n",
       "      <td>0</td>\n",
       "    </tr>\n",
       "  </tbody>\n",
       "</table>\n",
       "</div>"
      ],
      "text/plain": [
       "     total_bill   tip     sex smoker   day    time  size  is_weekend\n",
       "240       29.03  5.92    Male     No   Sat  Dinner     3           1\n",
       "241       27.18  2.00  Female    Yes   Sat  Dinner     2           1\n",
       "242       22.67  2.00    Male    Yes   Sat  Dinner     2           1\n",
       "243       17.82  1.75    Male     No   Sat  Dinner     2           1\n",
       "244       18.78  3.00  Female     No  Thur  Dinner     2           0"
      ]
     },
     "execution_count": 19,
     "metadata": {},
     "output_type": "execute_result"
    }
   ],
   "source": [
    "df[\"is_weekend\"] = df.day.apply(weekend)\n",
    "df.tail()"
   ]
  },
  {
   "cell_type": "code",
   "execution_count": 20,
   "id": "acute-aquatic",
   "metadata": {},
   "outputs": [],
   "source": [
    "weekends = df[df.is_weekend == 1]\n",
    "weekdays = df[df.is_weekend == 0]"
   ]
  },
  {
   "cell_type": "code",
   "execution_count": 21,
   "id": "unable-proceeding",
   "metadata": {},
   "outputs": [
    {
     "data": {
      "text/plain": [
       "<AxesSubplot:>"
      ]
     },
     "execution_count": 21,
     "metadata": {},
     "output_type": "execute_result"
    },
    {
     "data": {
      "image/png": "[encoded data removed]",
      "text/plain": [
       "<Figure size 432x288 with 1 Axes>"
      ]
     },
     "metadata": {
      "needs_background": "light"
     },
     "output_type": "display_data"
    }
   ],
   "source": [
    "weekends.tip.hist()"
   ]
  },
  {
   "cell_type": "code",
   "execution_count": 22,
   "id": "handy-winter",
   "metadata": {},
   "outputs": [
    {
     "data": {
      "text/plain": [
       "<AxesSubplot:>"
      ]
     },
     "execution_count": 22,
     "metadata": {},
     "output_type": "execute_result"
    },
    {
     "data": {
      "image/png": "[encoded data removed]",
      "text/plain": [
       "<Figure size 432x288 with 1 Axes>"
      ]
     },
     "metadata": {
      "needs_background": "light"
     },
     "output_type": "display_data"
    }
   ],
   "source": [
    "weekdays.tip.hist()"
   ]
  },
  {
   "cell_type": "code",
   "execution_count": 23,
   "id": "forbidden-suicide",
   "metadata": {},
   "outputs": [],
   "source": [
    "confidence_level = .90\n",
    "a = 1 - confidence_level"
   ]
  },
  {
   "cell_type": "code",
   "execution_count": 24,
   "id": "preliminary-hotel",
   "metadata": {},
   "outputs": [
    {
     "data": {
      "text/plain": [
       "(-1.8834950801996837, 0.06083244523772748)"
      ]
     },
     "execution_count": 24,
     "metadata": {},
     "output_type": "execute_result"
    }
   ],
   "source": [
    "# ttest_ind for two-sample t-tests\n",
    "t, p = stats.ttest_ind(weekdays.tip, weekends.tip)\n",
    "t, p"
   ]
  },
  {
   "cell_type": "code",
   "execution_count": 25,
   "id": "surgical-value",
   "metadata": {},
   "outputs": [
    {
     "name": "stdout",
     "output_type": "stream",
     "text": [
      "We reject the null hypothesis that weekend and weekday tips are the same\n"
     ]
    }
   ],
   "source": [
    "if p < a:\n",
    "    print(\"We reject the null hypothesis that weekend and weekday tips are the same\")\n",
    "else:\n",
    "    print(\"We fail to reject the null hypothesis\")\n",
    "    print(\"Not enough evidence to support the claim that the tip levels are different\")"
   ]
  },
  {
   "cell_type": "markdown",
   "id": "attempted-announcement",
   "metadata": {},
   "source": [
    "## So... we don't have evidence to support the claim that the means are significantly different"
   ]
  },
  {
   "cell_type": "code",
   "execution_count": 26,
   "id": "selected-blues",
   "metadata": {},
   "outputs": [],
   "source": [
    "# Let's check if the weekday tips are higher than weekend tips!\n",
    "# This means we're going from a two-tailed (direction ambivilent) to a one-tailed test"
   ]
  },
  {
   "cell_type": "code",
   "execution_count": 27,
   "id": "architectural-tradition",
   "metadata": {},
   "outputs": [
    {
     "data": {
      "text/plain": [
       "(-1.8834950801996837, 0.06083244523772748)"
      ]
     },
     "execution_count": 27,
     "metadata": {},
     "output_type": "execute_result"
    }
   ],
   "source": [
    "confidence_level = .95\n",
    "a = 1 - confidence_level\n",
    "\n",
    "## PAY CLOSE ATTENTION\n",
    "# The direction of a one-tailed test here, and the t < 0 or t > 0 part\n",
    "# comes down to the first arg into .ttest_ind\n",
    "t, p = stats.ttest_ind(weekdays.tip, weekends.tip)\n",
    "t, p"
   ]
  },
  {
   "cell_type": "code",
   "execution_count": 28,
   "id": "isolated-technical",
   "metadata": {},
   "outputs": [],
   "source": [
    "null = \"There is no difference\"\n",
    "alternative_hypothesis = \"weekday tips are greater than Weekend tips\" # Paying attention to the order of args"
   ]
  },
  {
   "cell_type": "code",
   "execution_count": 29,
   "id": "cheap-timothy",
   "metadata": {},
   "outputs": [
    {
     "name": "stdout",
     "output_type": "stream",
     "text": [
      "We fail to reject the null hypothesis\n",
      "we don't have enough evidence to support the claim that weekday tips are greater than Weekend tips\n"
     ]
    }
   ],
   "source": [
    "# Let's check the one_tailed test\n",
    "# t > 0 if we're testing if one mean is higher than the other\n",
    "if (p/2) < a and t > 0:\n",
    "    print(\"We reject the null hypothesis\")\n",
    "else:\n",
    "    print(\"We fail to reject the null hypothesis\")\n",
    "    print(\"we don't have enough evidence to support the claim that\", alternative_hypothesis)"
   ]
  },
  {
   "cell_type": "code",
   "execution_count": 30,
   "id": "congressional-tsunami",
   "metadata": {},
   "outputs": [
    {
     "name": "stdout",
     "output_type": "stream",
     "text": [
      "We reject the null hypothesis that tip means are the same\n",
      "We move foward with the understanding that weekday tips are lower than weekend tips\n"
     ]
    }
   ],
   "source": [
    "# Let's make a new hypothesis\n",
    "# Weekeends tips are greater than weekday tips\n",
    "null = \"There is no difference\"\n",
    "alternative_hypothesis = \"weekday tips are less than than weekend tips\" # Paying attention to the order of args\n",
    "\n",
    "# Let's check the one_tailed test\n",
    "# t < 0 if we're testing if one mean is higher than the other\n",
    "if (p/2) < a and t < 0:\n",
    "    print(\"We reject the null hypothesis that tip means are the same\")\n",
    "    print(\"We move foward with the understanding that weekday tips are lower than weekend tips\")\n",
    "else:\n",
    "    print(\"We fail to reject the null hypothesis\")\n",
    "    print(\"There is insufficient evidence to support the claim\")"
   ]
  },
  {
   "cell_type": "code",
   "execution_count": 31,
   "id": "tutorial-portrait",
   "metadata": {},
   "outputs": [
    {
     "data": {
      "text/plain": [
       "(2.7628395061728392, 3.115276073619632)"
      ]
     },
     "execution_count": 31,
     "metadata": {},
     "output_type": "execute_result"
    }
   ],
   "source": [
    "weekdays.tip.mean(), weekends.tip.mean()"
   ]
  },
  {
   "cell_type": "code",
   "execution_count": null,
   "id": "handed-garbage",
   "metadata": {},
   "outputs": [],
   "source": []
  }
 ],
 "metadata": {
  "kernelspec": {
   "display_name": "Python 3",
   "language": "python",
   "name": "python3"
  },
  "language_info": {
   "codemirror_mode": {
    "name": "ipython",
    "version": 3
   },
   "file_extension": ".py",
   "mimetype": "text/x-python",
   "name": "python",
   "nbconvert_exporter": "python",
   "pygments_lexer": "ipython3",
   "version": "3.7.3"
  }
 },
 "nbformat": 4,
 "nbformat_minor": 5
}
